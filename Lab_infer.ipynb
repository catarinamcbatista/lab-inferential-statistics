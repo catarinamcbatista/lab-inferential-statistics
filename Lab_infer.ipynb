{
 "cells": [
  {
   "cell_type": "markdown",
   "metadata": {},
   "source": [
    "## Lab | Inferential statistics"
   ]
  },
  {
   "cell_type": "markdown",
   "metadata": {},
   "source": [
    "It is assumed that the mean systolic blood pressure is μ = 120 mm Hg. In the Honolulu Heart Study, a sample of n = 100 people had an average systolic blood pressure of 130.1 mm Hg with a standard deviation of 21.21 mm Hg. Is the group significantly different (with respect to systolic blood pressure!) from the regular population?\n",
    "\n",
    "Set up the hypothesis test.\n",
    "Write down all the steps followed for setting up the test.\n",
    "Calculate the test statistic by hand and also code it in Python. It should be 4.76190. We will take a look at how to make decisions based on this calculated value."
   ]
  },
  {
   "cell_type": "markdown",
   "metadata": {},
   "source": [
    "## Loading libraries"
   ]
  },
  {
   "cell_type": "code",
   "execution_count": 1,
   "metadata": {},
   "outputs": [
    {
     "name": "stdout",
     "output_type": "stream",
     "text": [
      "Statistic is:  4.761904761904759\n"
     ]
    }
   ],
   "source": [
    "import math\n",
    "\n",
    "sample_mean = 130.1\n",
    "pop_mean = 120\n",
    "sample_std = 21.21\n",
    "n = 100\n",
    "statistic = (sample_mean - pop_mean)/(sample_std/math.sqrt(n))\n",
    "print(\"Statistic is: \", statistic)"
   ]
  },
  {
   "cell_type": "markdown",
   "metadata": {},
   "source": [
    "## Hypothesis test"
   ]
  },
  {
   "cell_type": "code",
   "execution_count": 5,
   "metadata": {},
   "outputs": [
    {
     "name": "stdout",
     "output_type": "stream",
     "text": [
      "The t-statistic for the sample 0 is: 5.43459529275363\n",
      "The t-statistic for the sample 1 is: 5.076914915168548\n",
      "The t-statistic for the sample 2 is: 4.825162787664806\n",
      "The t-statistic for the sample 3 is: 3.84477106138426\n",
      "The t-statistic for the sample 4 is: 3.8718597195605633\n",
      "The t-statistic for the sample 5 is: 4.115294890338286\n",
      "The t-statistic for the sample 6 is: 4.713005649227983\n",
      "The t-statistic for the sample 7 is: 6.367842814421606\n",
      "The t-statistic for the sample 8 is: 3.7805498185400803\n",
      "The t-statistic for the sample 9 is: 2.843253965306085\n"
     ]
    }
   ],
   "source": [
    "import numpy as np\n",
    "from scipy import stats\n",
    "from numpy.random import normal\n",
    "\n",
    "samples = {}\n",
    "\n",
    "for i in range(10):\n",
    "    sample_name = \"sample_\" + str(i)\n",
    "    samples[sample_name] = normal(loc = 130.1, scale = 21.21, size = 100)\n",
    "    sample_mean = \"sample_\" + str(i) + \"_mean\"\n",
    "    samples[sample_mean] = np.mean(samples[sample_name])\n",
    "    sample_std = \"sample_\" + str(i) + \"_std\"\n",
    "    samples[sample_std] = np.std(samples[sample_name],ddof=1)\n",
    "    sample_statistic = \"sample_\" + str(i) + \"_t-statistic\"\n",
    "    samples[sample_statistic] = (samples[sample_mean]- pop_mean)/(samples[sample_std]/math.sqrt(n)) \n",
    "    print(\"The t-statistic for the sample {} is: {}\".format(i,samples[sample_statistic]))"
   ]
  },
  {
   "cell_type": "code",
   "execution_count": 4,
   "metadata": {},
   "outputs": [
    {
     "name": "stdout",
     "output_type": "stream",
     "text": [
      "Assuming a significance level of 0.05\n",
      "The p-value of sample 0 is: 2.76e-08\n",
      "Therefore we discard the null hypothesis Ho, as it's very unlikely to get sample 0 given Ho.\n",
      "\n",
      "The p-value of sample 1 is: 3.53e-07\n",
      "Therefore we discard the null hypothesis Ho, as it's very unlikely to get sample 1 given Ho.\n",
      "\n",
      "The p-value of sample 2 is: 1.05e-05\n",
      "Therefore we discard the null hypothesis Ho, as it's very unlikely to get sample 2 given Ho.\n",
      "\n",
      "The p-value of sample 3 is: 1.33e-05\n",
      "Therefore we discard the null hypothesis Ho, as it's very unlikely to get sample 3 given Ho.\n",
      "\n",
      "The p-value of sample 4 is: 5.74e-05\n",
      "Therefore we discard the null hypothesis Ho, as it's very unlikely to get sample 4 given Ho.\n",
      "\n",
      "The p-value of sample 5 is: 3.18e-05\n",
      "Therefore we discard the null hypothesis Ho, as it's very unlikely to get sample 5 given Ho.\n",
      "\n",
      "The p-value of sample 6 is: 9.85e-05\n",
      "Therefore we discard the null hypothesis Ho, as it's very unlikely to get sample 6 given Ho.\n",
      "\n",
      "The p-value of sample 7 is: 6.59e-06\n",
      "Therefore we discard the null hypothesis Ho, as it's very unlikely to get sample 7 given Ho.\n",
      "\n",
      "The p-value of sample 8 is: 1.01e-05\n",
      "Therefore we discard the null hypothesis Ho, as it's very unlikely to get sample 8 given Ho.\n",
      "\n",
      "The p-value of sample 9 is: 2.61e-05\n",
      "Therefore we discard the null hypothesis Ho, as it's very unlikely to get sample 9 given Ho.\n",
      "\n"
     ]
    }
   ],
   "source": [
    "print(\"Assuming a significance level of 0.05\")\n",
    "\n",
    "for i in range(10):\n",
    "    sample_name = \"sample_\" + str(i)\n",
    "    print(\"The p-value of sample {} is: {:-5.3}\".format(i,stats.ttest_1samp(samples[sample_name],120)[1]))\n",
    "    if ( stats.ttest_1samp(samples[sample_name],120)[1] < 0.05 ):\n",
    "        print(\"Therefore we discard the null hypothesis Ho, as it's very unlikely to get sample {} given Ho.\".format(i))\n",
    "    print()"
   ]
  },
  {
   "cell_type": "markdown",
   "metadata": {},
   "source": [
    "We reject the null hypothesis."
   ]
  },
  {
   "cell_type": "code",
   "execution_count": null,
   "metadata": {},
   "outputs": [],
   "source": []
  }
 ],
 "metadata": {
  "kernelspec": {
   "display_name": "Python 3",
   "language": "python",
   "name": "python3"
  },
  "language_info": {
   "codemirror_mode": {
    "name": "ipython",
    "version": 3
   },
   "file_extension": ".py",
   "mimetype": "text/x-python",
   "name": "python",
   "nbconvert_exporter": "python",
   "pygments_lexer": "ipython3",
   "version": "3.8.3"
  }
 },
 "nbformat": 4,
 "nbformat_minor": 4
}
